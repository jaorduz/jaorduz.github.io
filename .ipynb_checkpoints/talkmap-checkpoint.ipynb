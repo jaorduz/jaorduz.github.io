{
 "cells": [
  {
   "cell_type": "markdown",
   "metadata": {},
   "source": [
    "# Leaflet cluster map of talk locations\n",
    "\n",
    "Run this from the _talks/ directory, which contains .md files of all your talks. This scrapes the location YAML field from each .md file, geolocates it with geopy/Nominatim, and uses the getorg library to output data, HTML, and Javascript for a standalone cluster map."
   ]
  },
  {
   "cell_type": "code",
   "execution_count": null,
   "metadata": {},
   "outputs": [],
   "source": [
    "# JO: installed\n",
    "#!conda install -c conda-forge ipyleaflet -y"
   ]
  },
  {
   "cell_type": "code",
   "execution_count": 7,
   "metadata": {},
   "outputs": [
    {
     "name": "stdout",
     "output_type": "stream",
     "text": [
      "Enabling notebook extension jupyter-leaflet/extension...\r\n",
      "      - Validating: \u001b[32mOK\u001b[0m\r\n"
     ]
    }
   ],
   "source": [
    "!jupyter nbextension enable --py --sys-prefix ipyleaflet"
   ]
  },
  {
   "cell_type": "code",
   "execution_count": 9,
   "metadata": {},
   "outputs": [
    {
     "name": "stdout",
     "output_type": "stream",
     "text": [
      "Traceback (most recent call last):\n",
      "  File \"/home/shrodinger/anaconda3/envs/myEnv/bin/jupyter\", line 11, in <module>\n",
      "    sys.exit(main())\n",
      "  File \"/home/shrodinger/anaconda3/envs/myEnv/lib/python3.7/site-packages/jupyter_core/command.py\", line 247, in main\n",
      "    command = _jupyter_abspath(subcommand)\n",
      "  File \"/home/shrodinger/anaconda3/envs/myEnv/lib/python3.7/site-packages/jupyter_core/command.py\", line 134, in _jupyter_abspath\n",
      "    'Jupyter command `{}` not found.'.format(jupyter_subcommand)\n",
      "Exception: Jupyter command `jupyter-labextension` not found.\n"
     ]
    }
   ],
   "source": [
    "!jupyter labextension install @jupyter-widgets/jupyterlab-manager jupyter-leaflet"
   ]
  },
  {
   "cell_type": "code",
   "execution_count": 5,
   "metadata": {},
   "outputs": [
    {
     "name": "stdout",
     "output_type": "stream",
     "text": [
      "Requirement already satisfied: ipyleaflet in /home/shrodinger/anaconda3/envs/myEnv/lib/python3.7/site-packages (0.13.3)\n",
      "Requirement already satisfied: ipywidgets<8,>=7.5.0 in /home/shrodinger/anaconda3/envs/myEnv/lib/python3.7/site-packages (from ipyleaflet) (7.5.1)\n",
      "Requirement already satisfied: branca<0.5,>=0.3.1 in /home/shrodinger/anaconda3/envs/myEnv/lib/python3.7/site-packages (from ipyleaflet) (0.3.1)\n",
      "Requirement already satisfied: traittypes<3,>=0.2.1 in /home/shrodinger/anaconda3/envs/myEnv/lib/python3.7/site-packages (from ipyleaflet) (0.2.1)\n",
      "Requirement already satisfied: ipykernel>=4.5.1 in /home/shrodinger/anaconda3/envs/myEnv/lib/python3.7/site-packages (from ipywidgets<8,>=7.5.0->ipyleaflet) (5.1.4)\n",
      "Requirement already satisfied: nbformat>=4.2.0 in /home/shrodinger/anaconda3/envs/myEnv/lib/python3.7/site-packages (from ipywidgets<8,>=7.5.0->ipyleaflet) (5.0.6)\n",
      "Requirement already satisfied: ipython>=4.0.0; python_version >= \"3.3\" in /home/shrodinger/anaconda3/envs/myEnv/lib/python3.7/site-packages (from ipywidgets<8,>=7.5.0->ipyleaflet) (7.13.0)\n",
      "Requirement already satisfied: widgetsnbextension~=3.5.0 in /home/shrodinger/anaconda3/envs/myEnv/lib/python3.7/site-packages (from ipywidgets<8,>=7.5.0->ipyleaflet) (3.5.1)\n",
      "Requirement already satisfied: traitlets>=4.3.1 in /home/shrodinger/anaconda3/envs/myEnv/lib/python3.7/site-packages (from ipywidgets<8,>=7.5.0->ipyleaflet) (4.3.3)\n",
      "Requirement already satisfied: six in /home/shrodinger/anaconda3/envs/myEnv/lib/python3.7/site-packages (from branca<0.5,>=0.3.1->ipyleaflet) (1.14.0)\n",
      "Requirement already satisfied: jinja2 in /home/shrodinger/anaconda3/envs/myEnv/lib/python3.7/site-packages (from branca<0.5,>=0.3.1->ipyleaflet) (2.11.2)\n",
      "Requirement already satisfied: tornado>=4.2 in /home/shrodinger/anaconda3/envs/myEnv/lib/python3.7/site-packages (from ipykernel>=4.5.1->ipywidgets<8,>=7.5.0->ipyleaflet) (6.0.4)\n",
      "Requirement already satisfied: jupyter-client in /home/shrodinger/anaconda3/envs/myEnv/lib/python3.7/site-packages (from ipykernel>=4.5.1->ipywidgets<8,>=7.5.0->ipyleaflet) (6.1.3)\n",
      "Requirement already satisfied: jsonschema!=2.5.0,>=2.4 in /home/shrodinger/anaconda3/envs/myEnv/lib/python3.7/site-packages (from nbformat>=4.2.0->ipywidgets<8,>=7.5.0->ipyleaflet) (3.2.0)\n",
      "Requirement already satisfied: jupyter-core in /home/shrodinger/anaconda3/envs/myEnv/lib/python3.7/site-packages (from nbformat>=4.2.0->ipywidgets<8,>=7.5.0->ipyleaflet) (4.6.3)\n",
      "Requirement already satisfied: ipython-genutils in /home/shrodinger/anaconda3/envs/myEnv/lib/python3.7/site-packages (from nbformat>=4.2.0->ipywidgets<8,>=7.5.0->ipyleaflet) (0.2.0)\n",
      "Requirement already satisfied: setuptools>=18.5 in /home/shrodinger/anaconda3/envs/myEnv/lib/python3.7/site-packages (from ipython>=4.0.0; python_version >= \"3.3\"->ipywidgets<8,>=7.5.0->ipyleaflet) (46.4.0.post20200518)\n",
      "Requirement already satisfied: pexpect; sys_platform != \"win32\" in /home/shrodinger/anaconda3/envs/myEnv/lib/python3.7/site-packages (from ipython>=4.0.0; python_version >= \"3.3\"->ipywidgets<8,>=7.5.0->ipyleaflet) (4.8.0)\n",
      "Requirement already satisfied: prompt-toolkit!=3.0.0,!=3.0.1,<3.1.0,>=2.0.0 in /home/shrodinger/anaconda3/envs/myEnv/lib/python3.7/site-packages (from ipython>=4.0.0; python_version >= \"3.3\"->ipywidgets<8,>=7.5.0->ipyleaflet) (3.0.4)\n",
      "Requirement already satisfied: pygments in /home/shrodinger/anaconda3/envs/myEnv/lib/python3.7/site-packages (from ipython>=4.0.0; python_version >= \"3.3\"->ipywidgets<8,>=7.5.0->ipyleaflet) (2.6.1)\n",
      "Requirement already satisfied: pickleshare in /home/shrodinger/anaconda3/envs/myEnv/lib/python3.7/site-packages (from ipython>=4.0.0; python_version >= \"3.3\"->ipywidgets<8,>=7.5.0->ipyleaflet) (0.7.5)\n",
      "Requirement already satisfied: backcall in /home/shrodinger/anaconda3/envs/myEnv/lib/python3.7/site-packages (from ipython>=4.0.0; python_version >= \"3.3\"->ipywidgets<8,>=7.5.0->ipyleaflet) (0.1.0)\n",
      "Requirement already satisfied: decorator in /home/shrodinger/anaconda3/envs/myEnv/lib/python3.7/site-packages (from ipython>=4.0.0; python_version >= \"3.3\"->ipywidgets<8,>=7.5.0->ipyleaflet) (4.4.2)\n",
      "Requirement already satisfied: jedi>=0.10 in /home/shrodinger/anaconda3/envs/myEnv/lib/python3.7/site-packages (from ipython>=4.0.0; python_version >= \"3.3\"->ipywidgets<8,>=7.5.0->ipyleaflet) (0.17.1)\n",
      "Requirement already satisfied: notebook>=4.4.1 in /home/shrodinger/anaconda3/envs/myEnv/lib/python3.7/site-packages (from widgetsnbextension~=3.5.0->ipywidgets<8,>=7.5.0->ipyleaflet) (6.1.1)\n",
      "Requirement already satisfied: MarkupSafe>=0.23 in /home/shrodinger/anaconda3/envs/myEnv/lib/python3.7/site-packages (from jinja2->branca<0.5,>=0.3.1->ipyleaflet) (1.1.1)\n",
      "Requirement already satisfied: pyzmq>=13 in /home/shrodinger/anaconda3/envs/myEnv/lib/python3.7/site-packages (from jupyter-client->ipykernel>=4.5.1->ipywidgets<8,>=7.5.0->ipyleaflet) (18.1.1)\n",
      "Requirement already satisfied: python-dateutil>=2.1 in /home/shrodinger/anaconda3/envs/myEnv/lib/python3.7/site-packages (from jupyter-client->ipykernel>=4.5.1->ipywidgets<8,>=7.5.0->ipyleaflet) (2.8.1)\n",
      "Requirement already satisfied: pyrsistent>=0.14.0 in /home/shrodinger/anaconda3/envs/myEnv/lib/python3.7/site-packages (from jsonschema!=2.5.0,>=2.4->nbformat>=4.2.0->ipywidgets<8,>=7.5.0->ipyleaflet) (0.16.0)\n",
      "Requirement already satisfied: importlib-metadata; python_version < \"3.8\" in /home/shrodinger/anaconda3/envs/myEnv/lib/python3.7/site-packages (from jsonschema!=2.5.0,>=2.4->nbformat>=4.2.0->ipywidgets<8,>=7.5.0->ipyleaflet) (1.6.0)\n",
      "Requirement already satisfied: attrs>=17.4.0 in /home/shrodinger/anaconda3/envs/myEnv/lib/python3.7/site-packages (from jsonschema!=2.5.0,>=2.4->nbformat>=4.2.0->ipywidgets<8,>=7.5.0->ipyleaflet) (19.3.0)\n",
      "Requirement already satisfied: ptyprocess>=0.5 in /home/shrodinger/anaconda3/envs/myEnv/lib/python3.7/site-packages (from pexpect; sys_platform != \"win32\"->ipython>=4.0.0; python_version >= \"3.3\"->ipywidgets<8,>=7.5.0->ipyleaflet) (0.6.0)\n",
      "Requirement already satisfied: wcwidth in /home/shrodinger/anaconda3/envs/myEnv/lib/python3.7/site-packages (from prompt-toolkit!=3.0.0,!=3.0.1,<3.1.0,>=2.0.0->ipython>=4.0.0; python_version >= \"3.3\"->ipywidgets<8,>=7.5.0->ipyleaflet) (0.1.9)\n",
      "Requirement already satisfied: parso<0.8.0,>=0.7.0 in /home/shrodinger/anaconda3/envs/myEnv/lib/python3.7/site-packages (from jedi>=0.10->ipython>=4.0.0; python_version >= \"3.3\"->ipywidgets<8,>=7.5.0->ipyleaflet) (0.7.0)\n",
      "Requirement already satisfied: Send2Trash in /home/shrodinger/anaconda3/envs/myEnv/lib/python3.7/site-packages (from notebook>=4.4.1->widgetsnbextension~=3.5.0->ipywidgets<8,>=7.5.0->ipyleaflet) (1.5.0)\n",
      "Requirement already satisfied: nbconvert in /home/shrodinger/anaconda3/envs/myEnv/lib/python3.7/site-packages (from notebook>=4.4.1->widgetsnbextension~=3.5.0->ipywidgets<8,>=7.5.0->ipyleaflet) (5.6.1)\n",
      "Requirement already satisfied: prometheus-client in /home/shrodinger/anaconda3/envs/myEnv/lib/python3.7/site-packages (from notebook>=4.4.1->widgetsnbextension~=3.5.0->ipywidgets<8,>=7.5.0->ipyleaflet) (0.7.1)\n",
      "Requirement already satisfied: argon2-cffi in /home/shrodinger/anaconda3/envs/myEnv/lib/python3.7/site-packages (from notebook>=4.4.1->widgetsnbextension~=3.5.0->ipywidgets<8,>=7.5.0->ipyleaflet) (20.1.0)\n",
      "Requirement already satisfied: terminado>=0.8.3 in /home/shrodinger/anaconda3/envs/myEnv/lib/python3.7/site-packages (from notebook>=4.4.1->widgetsnbextension~=3.5.0->ipywidgets<8,>=7.5.0->ipyleaflet) (0.8.3)\n",
      "Requirement already satisfied: zipp>=0.5 in /home/shrodinger/anaconda3/envs/myEnv/lib/python3.7/site-packages (from importlib-metadata; python_version < \"3.8\"->jsonschema!=2.5.0,>=2.4->nbformat>=4.2.0->ipywidgets<8,>=7.5.0->ipyleaflet) (3.1.0)\n",
      "Requirement already satisfied: bleach in /home/shrodinger/anaconda3/envs/myEnv/lib/python3.7/site-packages (from nbconvert->notebook>=4.4.1->widgetsnbextension~=3.5.0->ipywidgets<8,>=7.5.0->ipyleaflet) (3.1.4)\n",
      "Requirement already satisfied: pandocfilters>=1.4.1 in /home/shrodinger/anaconda3/envs/myEnv/lib/python3.7/site-packages (from nbconvert->notebook>=4.4.1->widgetsnbextension~=3.5.0->ipywidgets<8,>=7.5.0->ipyleaflet) (1.4.2)\n",
      "Requirement already satisfied: defusedxml in /home/shrodinger/anaconda3/envs/myEnv/lib/python3.7/site-packages (from nbconvert->notebook>=4.4.1->widgetsnbextension~=3.5.0->ipywidgets<8,>=7.5.0->ipyleaflet) (0.6.0)\n",
      "Requirement already satisfied: mistune<2,>=0.8.1 in /home/shrodinger/anaconda3/envs/myEnv/lib/python3.7/site-packages (from nbconvert->notebook>=4.4.1->widgetsnbextension~=3.5.0->ipywidgets<8,>=7.5.0->ipyleaflet) (0.8.4)\n",
      "Requirement already satisfied: testpath in /home/shrodinger/anaconda3/envs/myEnv/lib/python3.7/site-packages (from nbconvert->notebook>=4.4.1->widgetsnbextension~=3.5.0->ipywidgets<8,>=7.5.0->ipyleaflet) (0.4.4)\n"
     ]
    },
    {
     "name": "stdout",
     "output_type": "stream",
     "text": [
      "Requirement already satisfied: entrypoints>=0.2.2 in /home/shrodinger/anaconda3/envs/myEnv/lib/python3.7/site-packages (from nbconvert->notebook>=4.4.1->widgetsnbextension~=3.5.0->ipywidgets<8,>=7.5.0->ipyleaflet) (0.3)\r\n",
      "Requirement already satisfied: cffi>=1.0.0 in /home/shrodinger/anaconda3/envs/myEnv/lib/python3.7/site-packages (from argon2-cffi->notebook>=4.4.1->widgetsnbextension~=3.5.0->ipywidgets<8,>=7.5.0->ipyleaflet) (1.14.0)\r\n",
      "Requirement already satisfied: webencodings in /home/shrodinger/anaconda3/envs/myEnv/lib/python3.7/site-packages (from bleach->nbconvert->notebook>=4.4.1->widgetsnbextension~=3.5.0->ipywidgets<8,>=7.5.0->ipyleaflet) (0.5.1)\r\n",
      "Requirement already satisfied: pycparser in /home/shrodinger/anaconda3/envs/myEnv/lib/python3.7/site-packages (from cffi>=1.0.0->argon2-cffi->notebook>=4.4.1->widgetsnbextension~=3.5.0->ipywidgets<8,>=7.5.0->ipyleaflet) (2.20)\r\n"
     ]
    }
   ],
   "source": [
    "!conda update "
   ]
  },
  {
   "cell_type": "code",
   "execution_count": 10,
   "metadata": {},
   "outputs": [
    {
     "name": "stdout",
     "output_type": "stream",
     "text": [
      "Requirement already up-to-date: getorg in /home/shrodinger/anaconda3/envs/myEnv/lib/python3.7/site-packages (0.3.1)\n",
      "Requirement already satisfied, skipping upgrade: geopy in /home/shrodinger/anaconda3/envs/myEnv/lib/python3.7/site-packages (from getorg) (2.0.0)\n",
      "Requirement already satisfied, skipping upgrade: pygithub in /home/shrodinger/anaconda3/envs/myEnv/lib/python3.7/site-packages (from getorg) (1.53)\n",
      "Requirement already satisfied, skipping upgrade: retrying in /home/shrodinger/anaconda3/envs/myEnv/lib/python3.7/site-packages (from getorg) (1.3.3)\n",
      "Requirement already satisfied, skipping upgrade: geographiclib<2,>=1.49 in /home/shrodinger/anaconda3/envs/myEnv/lib/python3.7/site-packages (from geopy->getorg) (1.50)\n",
      "Requirement already satisfied, skipping upgrade: pyjwt in /home/shrodinger/anaconda3/envs/myEnv/lib/python3.7/site-packages (from pygithub->getorg) (1.7.1)\n",
      "Requirement already satisfied, skipping upgrade: deprecated in /home/shrodinger/anaconda3/envs/myEnv/lib/python3.7/site-packages (from pygithub->getorg) (1.2.10)\n",
      "Requirement already satisfied, skipping upgrade: requests>=2.14.0 in /home/shrodinger/anaconda3/envs/myEnv/lib/python3.7/site-packages (from pygithub->getorg) (2.24.0)\n",
      "Requirement already satisfied, skipping upgrade: six>=1.7.0 in /home/shrodinger/anaconda3/envs/myEnv/lib/python3.7/site-packages (from retrying->getorg) (1.14.0)\n",
      "Requirement already satisfied, skipping upgrade: wrapt<2,>=1.10 in /home/shrodinger/anaconda3/envs/myEnv/lib/python3.7/site-packages (from deprecated->pygithub->getorg) (1.12.1)\n",
      "Requirement already satisfied, skipping upgrade: urllib3!=1.25.0,!=1.25.1,<1.26,>=1.21.1 in /home/shrodinger/anaconda3/envs/myEnv/lib/python3.7/site-packages (from requests>=2.14.0->pygithub->getorg) (1.25.10)\n",
      "Requirement already satisfied, skipping upgrade: idna<3,>=2.5 in /home/shrodinger/anaconda3/envs/myEnv/lib/python3.7/site-packages (from requests>=2.14.0->pygithub->getorg) (2.9)\n",
      "Requirement already satisfied, skipping upgrade: chardet<4,>=3.0.2 in /home/shrodinger/anaconda3/envs/myEnv/lib/python3.7/site-packages (from requests>=2.14.0->pygithub->getorg) (3.0.4)\n",
      "Requirement already satisfied, skipping upgrade: certifi>=2017.4.17 in /home/shrodinger/anaconda3/envs/myEnv/lib/python3.7/site-packages (from requests>=2.14.0->pygithub->getorg) (2020.6.20)\n"
     ]
    }
   ],
   "source": [
    "!pip install getorg --upgrade\n",
    "import glob\n",
    "import getorg\n",
    "from geopy import Nominatim"
   ]
  },
  {
   "cell_type": "code",
   "execution_count": 11,
   "metadata": {},
   "outputs": [],
   "source": [
    "g = glob.glob(\"*.md\")"
   ]
  },
  {
   "cell_type": "code",
   "execution_count": 12,
   "metadata": {},
   "outputs": [
    {
     "name": "stderr",
     "output_type": "stream",
     "text": [
      "/home/shrodinger/anaconda3/envs/gl-env/lib/python2.7/site-packages/ipykernel_launcher.py:1: DeprecationWarning: Using Nominatim with default or sample `user_agent` \"geopy/1.23.0\" is strongly discouraged, as it violates Nominatim's ToS https://operations.osmfoundation.org/policies/nominatim/ and may possibly cause 403 and 429 HTTP errors. Please specify a custom `user_agent` with `Nominatim(user_agent=\"my-application\")` or by overriding the default `user_agent`: `geopy.geocoders.options.default_user_agent = \"my-application\"`. In geopy 2.0 this will become an exception.\n",
      "  \"\"\"Entry point for launching an IPython kernel.\n"
     ]
    }
   ],
   "source": [
    "geocoder = Nominatim()\n",
    "location_dict = {}\n",
    "location = \"\"\n",
    "permalink = \"\"\n",
    "title = \"\""
   ]
  },
  {
   "cell_type": "code",
   "execution_count": 13,
   "metadata": {},
   "outputs": [
    {
     "name": "stdout",
     "output_type": "stream",
     "text": [
      "('', '\\n', None)\n",
      "('', '\\n', None)\n",
      "('', '\\n', None)\n"
     ]
    }
   ],
   "source": [
    "for file in g:\n",
    "    with open(file, 'r') as f:\n",
    "        lines = f.read()\n",
    "        if lines.find('location: \"') > 1:\n",
    "            loc_start = lines.find('location: \"') + 11\n",
    "            lines_trim = lines[loc_start:]\n",
    "            loc_end = lines_trim.find(\" \")\n",
    "            location = lines_trim[:loc_end]\n",
    "                            \n",
    "           \n",
    "        location_dict[location] = geocoder.geocode(location)\n",
    "        print(location, \"\\n\", location_dict[location])\n"
   ]
  },
  {
   "cell_type": "code",
   "execution_count": null,
   "metadata": {},
   "outputs": [],
   "source": [
    "m = getorg.orgmap.create_map_obj()\n",
    "getorg.orgmap.output_html_cluster_map(location_dict, folder_name=\"../talkmap\", hashed_usernames=False)"
   ]
  },
  {
   "cell_type": "code",
   "execution_count": null,
   "metadata": {},
   "outputs": [],
   "source": []
  }
 ],
 "metadata": {
  "anaconda-cloud": {},
  "kernelspec": {
   "display_name": "Python 2",
   "language": "python",
   "name": "python2"
  },
  "language_info": {
   "codemirror_mode": {
    "name": "ipython",
    "version": 2
   },
   "file_extension": ".py",
   "mimetype": "text/x-python",
   "name": "python",
   "nbconvert_exporter": "python",
   "pygments_lexer": "ipython2",
   "version": "2.7.18"
  }
 },
 "nbformat": 4,
 "nbformat_minor": 1
}
