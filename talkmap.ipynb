{
 "cells": [
  {
   "cell_type": "markdown",
   "metadata": {},
   "source": [
    "# Leaflet cluster map of talk locations\n",
    "\n",
    "Run this from the _talks/ directory, which contains .md files of all your talks. This scrapes the location YAML field from each .md file, geolocates it with geopy/Nominatim, and uses the getorg library to output data, HTML, and Javascript for a standalone cluster map."
   ]
  },
  {
   "cell_type": "code",
   "execution_count": null,
   "metadata": {},
   "outputs": [],
   "source": [
    "# JO: installed\n",
    "#!conda install -c conda-forge ipyleaflet -y"
   ]
  },
  {
   "cell_type": "code",
   "execution_count": null,
   "metadata": {},
   "outputs": [],
   "source": [
    "!jupyter nbextension enable --py --sys-prefix ipyleaflet"
   ]
  },
  {
   "cell_type": "code",
   "execution_count": 1,
   "metadata": {},
   "outputs": [
    {
     "name": "stdout",
     "output_type": "stream",
     "text": [
      "\u001b[33mDEPRECATION: Python 2.7 will reach the end of its life on January 1st, 2020. Please upgrade your Python as Python 2.7 won't be maintained after that date. A future version of pip will drop support for Python 2.7. More details about Python 2 support in pip, can be found at https://pip.pypa.io/en/latest/development/release-process/#python-2-support\u001b[0m\n",
      "Requirement already up-to-date: getorg in /home/shrodinger/anaconda3/envs/gl-env/lib/python2.7/site-packages (0.3.1)\n",
      "Requirement already satisfied, skipping upgrade: retrying in /home/shrodinger/anaconda3/envs/gl-env/lib/python2.7/site-packages (from getorg) (1.3.3)\n",
      "Requirement already satisfied, skipping upgrade: geopy in /home/shrodinger/anaconda3/envs/gl-env/lib/python2.7/site-packages (from getorg) (1.23.0)\n",
      "Requirement already satisfied, skipping upgrade: pygithub in /home/shrodinger/anaconda3/envs/gl-env/lib/python2.7/site-packages (from getorg) (1.45)\n",
      "Requirement already satisfied, skipping upgrade: six>=1.7.0 in /home/shrodinger/anaconda3/envs/gl-env/lib/python2.7/site-packages (from retrying->getorg) (1.14.0)\n",
      "Requirement already satisfied, skipping upgrade: geographiclib<2,>=1.49 in /home/shrodinger/anaconda3/envs/gl-env/lib/python2.7/site-packages (from geopy->getorg) (1.50)\n",
      "Requirement already satisfied, skipping upgrade: deprecated in /home/shrodinger/anaconda3/envs/gl-env/lib/python2.7/site-packages (from pygithub->getorg) (1.2.10)\n",
      "Requirement already satisfied, skipping upgrade: requests>=2.14.0 in /home/shrodinger/anaconda3/envs/gl-env/lib/python2.7/site-packages (from pygithub->getorg) (2.24.0)\n",
      "Requirement already satisfied, skipping upgrade: pyjwt in /home/shrodinger/anaconda3/envs/gl-env/lib/python2.7/site-packages (from pygithub->getorg) (1.7.1)\n",
      "Requirement already satisfied, skipping upgrade: wrapt<2,>=1.10 in /home/shrodinger/anaconda3/envs/gl-env/lib/python2.7/site-packages (from deprecated->pygithub->getorg) (1.12.1)\n",
      "Collecting certifi>=2017.4.17\n",
      "\u001b[?25l  Downloading https://files.pythonhosted.org/packages/5e/c4/6c4fe722df5343c33226f0b4e0bb042e4dc13483228b4718baf286f86d87/certifi-2020.6.20-py2.py3-none-any.whl (156kB)\n",
      "\u001b[K     |████████████████████████████████| 163kB 771kB/s eta 0:00:01\n",
      "\u001b[?25hRequirement already satisfied, skipping upgrade: idna<3,>=2.5 in /home/shrodinger/anaconda3/envs/gl-env/lib/python2.7/site-packages (from requests>=2.14.0->pygithub->getorg) (2.10)\n",
      "Requirement already satisfied, skipping upgrade: chardet<4,>=3.0.2 in /home/shrodinger/anaconda3/envs/gl-env/lib/python2.7/site-packages (from requests>=2.14.0->pygithub->getorg) (3.0.4)\n",
      "Requirement already satisfied, skipping upgrade: urllib3!=1.25.0,!=1.25.1,<1.26,>=1.21.1 in /home/shrodinger/anaconda3/envs/gl-env/lib/python2.7/site-packages (from requests>=2.14.0->pygithub->getorg) (1.25.10)\n",
      "\u001b[31mERROR: graphlab-create 2.1 has requirement certifi==2015.04.28, but you'll have certifi 2020.6.20 which is incompatible.\u001b[0m\n",
      "\u001b[31mERROR: graphlab-create 2.1 has requirement decorator==4.0.9, but you'll have decorator 4.4.2 which is incompatible.\u001b[0m\n",
      "\u001b[31mERROR: graphlab-create 2.1 has requirement jsonschema==2.5.1, but you'll have jsonschema 3.0.2 which is incompatible.\u001b[0m\n",
      "\u001b[31mERROR: graphlab-create 2.1 has requirement requests==2.9.1, but you'll have requests 2.24.0 which is incompatible.\u001b[0m\n",
      "\u001b[31mERROR: graphlab-create 2.1 has requirement tornado==4.3, but you'll have tornado 4.5.3 which is incompatible.\u001b[0m\n",
      "Installing collected packages: certifi\n",
      "  Found existing installation: certifi 2016.9.26\n",
      "\u001b[31mERROR: Cannot uninstall 'certifi'. It is a distutils installed project and thus we cannot accurately determine which files belong to it which would lead to only a partial uninstall.\u001b[0m\n",
      "Iywidgets and ipyleaflet support disabled. You must be in a Jupyter notebook to use this feature.\n",
      "Error raised:\n",
      "Non-ASCII character '\\xe2' in file /home/shrodinger/anaconda3/envs/gl-env/lib/python2.7/site-packages/ipyleaflet/leaflet.py on line 409, but no encoding declared; see http://python.org/dev/peps/pep-0263/ for details (leaflet.py, line 408)\n",
      "Check that you have enabled ipyleaflet in Jupyter with:\n",
      "    jupyter nbextension enable --py ipyleaflet\n"
     ]
    }
   ],
   "source": [
    "!pip install getorg --upgrade\n",
    "import glob\n",
    "import getorg\n",
    "from geopy import Nominatim"
   ]
  },
  {
   "cell_type": "code",
   "execution_count": 2,
   "metadata": {},
   "outputs": [],
   "source": [
    "g = glob.glob(\"*.md\")"
   ]
  },
  {
   "cell_type": "code",
   "execution_count": 4,
   "metadata": {},
   "outputs": [
    {
     "name": "stderr",
     "output_type": "stream",
     "text": [
      "/home/shrodinger/anaconda3/envs/gl-env/lib/python2.7/site-packages/ipykernel_launcher.py:1: DeprecationWarning: Using Nominatim with default or sample `user_agent` \"geopy/1.23.0\" is strongly discouraged, as it violates Nominatim's ToS https://operations.osmfoundation.org/policies/nominatim/ and may possibly cause 403 and 429 HTTP errors. Please specify a custom `user_agent` with `Nominatim(user_agent=\"my-application\")` or by overriding the default `user_agent`: `geopy.geocoders.options.default_user_agent = \"my-application\"`. In geopy 2.0 this will become an exception.\n",
      "  \"\"\"Entry point for launching an IPython kernel.\n"
     ]
    }
   ],
   "source": [
    "geocoder = Nominatim()\n",
    "location_dict = {}\n",
    "location = ''\n",
    "permalink = ''\n",
    "title = ''"
   ]
  },
  {
   "cell_type": "code",
   "execution_count": 5,
   "metadata": {},
   "outputs": [
    {
     "name": "stdout",
     "output_type": "stream",
     "text": [
      "('', '\\n', None)\n",
      "('', '\\n', None)\n",
      "('', '\\n', None)\n"
     ]
    }
   ],
   "source": [
    "for file in g:\n",
    "    with open(file, 'r') as f:\n",
    "        lines = f.read()\n",
    "        if lines.find('location: \"') > 1:\n",
    "            loc_start = lines.find('location: \"') + 11\n",
    "            lines_trim = lines[loc_start:]\n",
    "            loc_end = lines_trim.find(\" \")\n",
    "            location = lines_trim[:loc_end]\n",
    "                            \n",
    "           \n",
    "        location_dict[location] = geocoder.geocode(location)\n",
    "        print(location, \"\\n\", location_dict[location])\n"
   ]
  },
  {
   "cell_type": "code",
   "execution_count": 6,
   "metadata": {},
   "outputs": [
    {
     "data": {
      "text/plain": [
       "'Written map to ../talkmap/'"
      ]
     },
     "execution_count": 6,
     "metadata": {},
     "output_type": "execute_result"
    }
   ],
   "source": [
    "m = getorg.orgmap.create_map_obj()\n",
    "getorg.orgmap.output_html_cluster_map(location_dict, folder_name=\"../talkmap\", hashed_usernames=False)"
   ]
  },
  {
   "cell_type": "code",
   "execution_count": null,
   "metadata": {},
   "outputs": [],
   "source": []
  }
 ],
 "metadata": {
  "anaconda-cloud": {},
  "kernelspec": {
   "display_name": "Python 2",
   "language": "python",
   "name": "python2"
  },
  "language_info": {
   "codemirror_mode": {
    "name": "ipython",
    "version": 2
   },
   "file_extension": ".py",
   "mimetype": "text/x-python",
   "name": "python",
   "nbconvert_exporter": "python",
   "pygments_lexer": "ipython2",
   "version": "2.7.18"
  }
 },
 "nbformat": 4,
 "nbformat_minor": 1
}
